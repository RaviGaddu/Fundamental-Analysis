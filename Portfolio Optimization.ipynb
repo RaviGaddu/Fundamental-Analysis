{
  "nbformat": 4,
  "nbformat_minor": 0,
  "metadata": {
    "colab": {
      "provenance": []
    },
    "kernelspec": {
      "name": "python3",
      "display_name": "Python 3"
    },
    "language_info": {
      "name": "python"
    }
  },
  "cells": [
    {
      "cell_type": "code",
      "execution_count": 1,
      "metadata": {
        "colab": {
          "base_uri": "https://localhost:8080/"
        },
        "id": "vlq0HaKk_zq0",
        "outputId": "b7690ad0-eff5-45f1-d444-1e12ad425e46"
      },
      "outputs": [
        {
          "output_type": "stream",
          "name": "stderr",
          "text": [
            "[*********************100%***********************]  5 of 5 completed"
          ]
        },
        {
          "output_type": "stream",
          "name": "stdout",
          "text": [
            "Optimized Portfolio Weights: [4.90702523e-01 0.00000000e+00 0.00000000e+00 2.42861287e-16\n",
            " 5.09297477e-01]\n",
            "Optimized Portfolio Return: 0.2764475184251076\n",
            "Optimized Portfolio Volatility: 0.30352259380383834\n",
            "Optimized Portfolio Sharpe Ratio: 0.8778506900784733\n"
          ]
        },
        {
          "output_type": "stream",
          "name": "stderr",
          "text": [
            "\n"
          ]
        }
      ],
      "source": [
        "import yfinance as yf\n",
        "import pandas as pd\n",
        "import numpy as np\n",
        "import scipy.optimize as sco\n",
        "\n",
        "# Define objectives and constraints\n",
        "investment_horizon = 5  # years\n",
        "risk_tolerance = 'medium'  # risk tolerance level\n",
        "risk_free_rate = 0.01  # 1% annual risk-free rate\n",
        "\n",
        "# List of stock tickers\n",
        "tickers = ['AAPL', 'MSFT', 'GOOGL', 'AMZN', 'META']\n",
        "\n",
        "# Download historical price data\n",
        "data = yf.download(tickers, start=\"2018-01-01\", end=\"2023-01-01\")\n",
        "prices = data['Adj Close']\n",
        "\n",
        "# Calculate daily returns\n",
        "returns = prices.pct_change().dropna()\n",
        "\n",
        "# Calculate expected annual returns\n",
        "expected_returns = returns.mean() * 252\n",
        "\n",
        "# Calculate annualized covariance matrix\n",
        "cov_matrix = returns.cov() * 252\n",
        "\n",
        "# Function to calculate portfolio statistics\n",
        "def portfolio_stats(weights, returns, cov_matrix):\n",
        "    port_return = np.sum(weights * returns)\n",
        "    port_volatility = np.sqrt(np.dot(weights.T, np.dot(cov_matrix, weights)))\n",
        "    return port_return, port_volatility\n",
        "\n",
        "# Function to minimize (negative Sharpe ratio)\n",
        "def min_sharpe(weights, returns, cov_matrix, risk_free_rate):\n",
        "    port_return, port_volatility = portfolio_stats(weights, returns, cov_matrix)\n",
        "    return -((port_return - risk_free_rate) / port_volatility)\n",
        "\n",
        "# Constraints and bounds\n",
        "constraints = {'type': 'eq', 'fun': lambda x: np.sum(x) - 1}  # weights sum to 1\n",
        "bounds = tuple((0, 1) for _ in range(len(tickers)))  # weights between 0 and 1\n",
        "\n",
        "# Initial guess\n",
        "init_guess = len(tickers) * [1. / len(tickers)]\n",
        "\n",
        "# Optimize for maximum Sharpe ratio\n",
        "opt_results = sco.minimize(min_sharpe, init_guess, args=(expected_returns, cov_matrix, risk_free_rate), method='SLSQP', bounds=bounds, constraints=constraints)\n",
        "\n",
        "# Optimal weights\n",
        "opt_weights = opt_results.x\n",
        "\n",
        "# Calculate optimized portfolio performance\n",
        "opt_return, opt_volatility = portfolio_stats(opt_weights, expected_returns, cov_matrix)\n",
        "sharpe_ratio = (opt_return - risk_free_rate) / opt_volatility\n",
        "\n",
        "print(f\"Optimized Portfolio Weights: {opt_weights}\")\n",
        "print(f\"Optimized Portfolio Return: {opt_return}\")\n",
        "print(f\"Optimized Portfolio Volatility: {opt_volatility}\")\n",
        "print(f\"Optimized Portfolio Sharpe Ratio: {sharpe_ratio}\")\n"
      ]
    }
  ]
}