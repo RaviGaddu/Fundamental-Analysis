{
  "nbformat": 4,
  "nbformat_minor": 0,
  "metadata": {
    "colab": {
      "provenance": []
    },
    "kernelspec": {
      "name": "python3",
      "display_name": "Python 3"
    },
    "language_info": {
      "name": "python"
    }
  },
  "cells": [
    {
      "cell_type": "markdown",
      "source": [
        "Financial Ratio Calculations for Multiple Stocks"
      ],
      "metadata": {
        "id": "aeIZOMtjxvbl"
      }
    },
    {
      "cell_type": "code",
      "execution_count": 1,
      "metadata": {
        "colab": {
          "base_uri": "https://localhost:8080/"
        },
        "id": "cl9u8zXTwYSz",
        "outputId": "70ec0c6f-e4e2-48f5-ac30-38aed61e6c53"
      },
      "outputs": [
        {
          "output_type": "stream",
          "name": "stdout",
          "text": [
            "Requirement already satisfied: yfinance in /usr/local/lib/python3.10/dist-packages (0.2.43)\n",
            "Requirement already satisfied: pandas in /usr/local/lib/python3.10/dist-packages (2.1.4)\n",
            "Requirement already satisfied: numpy>=1.16.5 in /usr/local/lib/python3.10/dist-packages (from yfinance) (1.26.4)\n",
            "Requirement already satisfied: requests>=2.31 in /usr/local/lib/python3.10/dist-packages (from yfinance) (2.32.3)\n",
            "Requirement already satisfied: multitasking>=0.0.7 in /usr/local/lib/python3.10/dist-packages (from yfinance) (0.0.11)\n",
            "Requirement already satisfied: lxml>=4.9.1 in /usr/local/lib/python3.10/dist-packages (from yfinance) (4.9.4)\n",
            "Requirement already satisfied: platformdirs>=2.0.0 in /usr/local/lib/python3.10/dist-packages (from yfinance) (4.3.2)\n",
            "Requirement already satisfied: pytz>=2022.5 in /usr/local/lib/python3.10/dist-packages (from yfinance) (2024.2)\n",
            "Requirement already satisfied: frozendict>=2.3.4 in /usr/local/lib/python3.10/dist-packages (from yfinance) (2.4.4)\n",
            "Requirement already satisfied: peewee>=3.16.2 in /usr/local/lib/python3.10/dist-packages (from yfinance) (3.17.6)\n",
            "Requirement already satisfied: beautifulsoup4>=4.11.1 in /usr/local/lib/python3.10/dist-packages (from yfinance) (4.12.3)\n",
            "Requirement already satisfied: html5lib>=1.1 in /usr/local/lib/python3.10/dist-packages (from yfinance) (1.1)\n",
            "Requirement already satisfied: python-dateutil>=2.8.2 in /usr/local/lib/python3.10/dist-packages (from pandas) (2.8.2)\n",
            "Requirement already satisfied: tzdata>=2022.1 in /usr/local/lib/python3.10/dist-packages (from pandas) (2024.1)\n",
            "Requirement already satisfied: soupsieve>1.2 in /usr/local/lib/python3.10/dist-packages (from beautifulsoup4>=4.11.1->yfinance) (2.6)\n",
            "Requirement already satisfied: six>=1.9 in /usr/local/lib/python3.10/dist-packages (from html5lib>=1.1->yfinance) (1.16.0)\n",
            "Requirement already satisfied: webencodings in /usr/local/lib/python3.10/dist-packages (from html5lib>=1.1->yfinance) (0.5.1)\n",
            "Requirement already satisfied: charset-normalizer<4,>=2 in /usr/local/lib/python3.10/dist-packages (from requests>=2.31->yfinance) (3.3.2)\n",
            "Requirement already satisfied: idna<4,>=2.5 in /usr/local/lib/python3.10/dist-packages (from requests>=2.31->yfinance) (3.8)\n",
            "Requirement already satisfied: urllib3<3,>=1.21.1 in /usr/local/lib/python3.10/dist-packages (from requests>=2.31->yfinance) (2.0.7)\n",
            "Requirement already satisfied: certifi>=2017.4.17 in /usr/local/lib/python3.10/dist-packages (from requests>=2.31->yfinance) (2024.8.30)\n"
          ]
        }
      ],
      "source": [
        "pip install yfinance pandas\n"
      ]
    },
    {
      "cell_type": "code",
      "source": [
        "import yfinance as yf\n",
        "import pandas as pd\n",
        "\n",
        "# Define the stocks to analyze\n",
        "tickers = ['AAPL', 'MSFT', 'NFLX']\n",
        "\n",
        "# Create an empty list to store the data\n",
        "data = []\n",
        "\n",
        "# Fetch data for each ticker\n",
        "for ticker in tickers:\n",
        "    stock = yf.Ticker(ticker)\n",
        "    stock_info = stock.info\n",
        "\n",
        "    # Append the relevant data to the list\n",
        "    data.append({\n",
        "        'Ticker': ticker,\n",
        "        'P/E Ratio': stock_info.get('trailingPE', 'N/A'),\n",
        "        'EPS': stock_info.get('trailingEps', 'N/A'),\n",
        "        'Dividend Yield': stock_info.get('dividendYield', 'N/A'),\n",
        "        'P/B Ratio': stock_info.get('priceToBook', 'N/A'),\n",
        "        'P/S Ratio': stock_info.get('priceToSalesTrailing12Months', 'N/A'),\n",
        "        'Debt to Equity': stock_info.get('debtToEquity', 'N/A'),\n",
        "        'Current Ratio': stock_info.get('currentRatio', 'N/A'),\n",
        "        'Quick Ratio': stock_info.get('quickRatio', 'N/A'),\n",
        "        'Beta': stock_info.get('beta', 'N/A'),\n",
        "        'Market Cap (Billion $)': stock_info.get('marketCap', 0) / 1e9\n",
        "    })\n",
        "\n",
        "# Convert the data into a pandas DataFrame\n",
        "df = pd.DataFrame(data)\n",
        "\n",
        "# Display the DataFrame\n",
        "print(df)\n"
      ],
      "metadata": {
        "colab": {
          "base_uri": "https://localhost:8080/"
        },
        "id": "ea9faO5vx6pX",
        "outputId": "7e24bda9-d157-4bbc-f258-d94346e27926"
      },
      "execution_count": 2,
      "outputs": [
        {
          "output_type": "stream",
          "name": "stdout",
          "text": [
            "  Ticker  P/E Ratio    EPS Dividend Yield  P/B Ratio  P/S Ratio  \\\n",
            "0   AAPL  33.917683   6.56         0.0045  50.775900   8.773045   \n",
            "1   MSFT  36.490677  11.80          0.007  11.922746  13.057141   \n",
            "2   NFLX  43.484715  16.03            N/A  13.528578   8.240187   \n",
            "\n",
            "   Debt to Equity  Current Ratio  Quick Ratio   Beta  Market Cap (Billion $)  \n",
            "0         151.862          0.953        0.798  1.240             3382.912221  \n",
            "1          36.447          1.275        1.141  0.896             3200.592642  \n",
            "2          74.727          0.948        0.782  1.262              299.153752  \n"
          ]
        }
      ]
    }
  ]
}